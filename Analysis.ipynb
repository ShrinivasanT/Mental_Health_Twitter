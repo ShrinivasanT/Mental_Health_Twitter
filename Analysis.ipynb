{
 "cells": [
  {
   "cell_type": "code",
   "execution_count": null,
   "id": "80a915e8",
   "metadata": {},
   "outputs": [],
   "source": [
    "import pandas as pd\n",
    "import tweepy\n",
    "import os\n",
    "from dotenv import load_dotenv\n"
   ]
  },
  {
   "cell_type": "code",
   "execution_count": 8,
   "id": "c954c97f",
   "metadata": {},
   "outputs": [],
   "source": [
    "# load env variables\n",
    "env_path = '.env'\n",
    "load_dotenv(env_path)\n",
    "\n",
    "bearer_token = os.getenv('BEARER_TOKEN')\n"
   ]
  },
  {
   "cell_type": "code",
   "execution_count": null,
   "id": "29a647d9",
   "metadata": {},
   "outputs": [],
   "source": [
    "client = tweepy.Client(bearer_token=bearer_token)\n",
    "\n",
    "query = '(depressed OR depression OR sad OR anxiety OR fucked OR suicidal OR feelings OR mentalhealthmatters OR mentalhealthsupport) -is:retweet lang:en'\n",
    "tweets = client.search_recent_tweets(query=query, max_results=100, tweet_fields=['created_at'])\n",
    "\n",
    "data = []\n",
    "for tweet in tweets.data:\n",
    "    data.append({\n",
    "        'text': tweet.text,\n",
    "        'created_at': tweet.created_at\n",
    "    })\n",
    "\n",
    "df = pd.DataFrame(data)"
   ]
  },
  {
   "cell_type": "code",
   "execution_count": 17,
   "id": "a0f0e97a",
   "metadata": {},
   "outputs": [
    {
     "data": {
      "text/plain": [
       "(100, 2)"
      ]
     },
     "execution_count": 17,
     "metadata": {},
     "output_type": "execute_result"
    }
   ],
   "source": [
    "df.head()\n",
    "df.shape"
   ]
  },
  {
   "cell_type": "code",
   "execution_count": 18,
   "id": "d7995cb3",
   "metadata": {},
   "outputs": [],
   "source": [
    "import re\n",
    "\n",
    "def remove_mentions(text):\n",
    "    return re.sub(r'@\\w+', '', text)\n"
   ]
  },
  {
   "cell_type": "code",
   "execution_count": 19,
   "id": "9dc84543",
   "metadata": {},
   "outputs": [],
   "source": [
    "def clean_text(text):\n",
    "    text = re.sub(r'@\\w+', '', text)              # remove @mentions\n",
    "    text = re.sub(r'http\\S+', '', text)           # remove links\n",
    "    return text.lower().strip()\n",
    "\n",
    "df['clean_text'] = df['text'].apply(clean_text)\n"
   ]
  },
  {
   "cell_type": "code",
   "execution_count": 21,
   "id": "332ef500",
   "metadata": {},
   "outputs": [
    {
     "data": {
      "text/html": [
       "<div>\n",
       "<style scoped>\n",
       "    .dataframe tbody tr th:only-of-type {\n",
       "        vertical-align: middle;\n",
       "    }\n",
       "\n",
       "    .dataframe tbody tr th {\n",
       "        vertical-align: top;\n",
       "    }\n",
       "\n",
       "    .dataframe thead th {\n",
       "        text-align: right;\n",
       "    }\n",
       "</style>\n",
       "<table border=\"1\" class=\"dataframe\">\n",
       "  <thead>\n",
       "    <tr style=\"text-align: right;\">\n",
       "      <th></th>\n",
       "      <th>text</th>\n",
       "      <th>created_at</th>\n",
       "      <th>clean_text</th>\n",
       "    </tr>\n",
       "  </thead>\n",
       "  <tbody>\n",
       "    <tr>\n",
       "      <th>0</th>\n",
       "      <td>@NeriiLune Dreary? But you look so dreamy to m...</td>\n",
       "      <td>2025-06-10 19:44:54+00:00</td>\n",
       "      <td>dreary? but you look so dreamy to me,.. ❤️ i h...</td>\n",
       "    </tr>\n",
       "    <tr>\n",
       "      <th>1</th>\n",
       "      <td>@LBJgoat_talk @shendy456 Alllllllllll of that ...</td>\n",
       "      <td>2025-06-10 19:44:54+00:00</td>\n",
       "      <td>alllllllllll of that you just said…………\\n\\nand ...</td>\n",
       "    </tr>\n",
       "    <tr>\n",
       "      <th>2</th>\n",
       "      <td>@avmelias LIKE??? this was such a EASY romcom ...</td>\n",
       "      <td>2025-06-10 19:44:54+00:00</td>\n",
       "      <td>like??? this was such a easy romcom to make an...</td>\n",
       "    </tr>\n",
       "    <tr>\n",
       "      <th>3</th>\n",
       "      <td>@Mrgunsngear Yeah they done fucked up now</td>\n",
       "      <td>2025-06-10 19:44:53+00:00</td>\n",
       "      <td>yeah they done fucked up now</td>\n",
       "    </tr>\n",
       "    <tr>\n",
       "      <th>4</th>\n",
       "      <td>one old fav moot unf me for inactivity thats s...</td>\n",
       "      <td>2025-06-10 19:44:53+00:00</td>\n",
       "      <td>one old fav moot unf me for inactivity thats s...</td>\n",
       "    </tr>\n",
       "  </tbody>\n",
       "</table>\n",
       "</div>"
      ],
      "text/plain": [
       "                                                text  \\\n",
       "0  @NeriiLune Dreary? But you look so dreamy to m...   \n",
       "1  @LBJgoat_talk @shendy456 Alllllllllll of that ...   \n",
       "2  @avmelias LIKE??? this was such a EASY romcom ...   \n",
       "3          @Mrgunsngear Yeah they done fucked up now   \n",
       "4  one old fav moot unf me for inactivity thats s...   \n",
       "\n",
       "                 created_at                                         clean_text  \n",
       "0 2025-06-10 19:44:54+00:00  dreary? but you look so dreamy to me,.. ❤️ i h...  \n",
       "1 2025-06-10 19:44:54+00:00  alllllllllll of that you just said…………\\n\\nand ...  \n",
       "2 2025-06-10 19:44:54+00:00  like??? this was such a easy romcom to make an...  \n",
       "3 2025-06-10 19:44:53+00:00                       yeah they done fucked up now  \n",
       "4 2025-06-10 19:44:53+00:00  one old fav moot unf me for inactivity thats s...  "
      ]
     },
     "execution_count": 21,
     "metadata": {},
     "output_type": "execute_result"
    }
   ],
   "source": [
    "df.head()"
   ]
  },
  {
   "cell_type": "code",
   "execution_count": 23,
   "id": "28c881f6",
   "metadata": {},
   "outputs": [],
   "source": [
    "df.to_csv('tweets_pulled.csv', index=False)"
   ]
  },
  {
   "cell_type": "code",
   "execution_count": null,
   "id": "b5488bb0",
   "metadata": {},
   "outputs": [],
   "source": []
  }
 ],
 "metadata": {
  "kernelspec": {
   "display_name": "venv",
   "language": "python",
   "name": "python3"
  },
  "language_info": {
   "codemirror_mode": {
    "name": "ipython",
    "version": 3
   },
   "file_extension": ".py",
   "mimetype": "text/x-python",
   "name": "python",
   "nbconvert_exporter": "python",
   "pygments_lexer": "ipython3",
   "version": "3.12.10"
  }
 },
 "nbformat": 4,
 "nbformat_minor": 5
}
