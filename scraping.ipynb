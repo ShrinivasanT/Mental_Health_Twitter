{
 "cells": [
  {
   "cell_type": "markdown",
   "id": "7b7f399a",
   "metadata": {},
   "source": [
    "### Because of Twitter API's Constraints only 100 post pulls per/month is allowed "
   ]
  },
  {
   "cell_type": "code",
   "execution_count": null,
   "id": "80a915e8",
   "metadata": {},
   "outputs": [],
   "source": [
    "import pandas as pd\n",
    "import tweepy\n",
    "import os\n",
    "from dotenv import load_dotenv\n"
   ]
  },
  {
   "cell_type": "code",
   "execution_count": null,
   "id": "c954c97f",
   "metadata": {},
   "outputs": [],
   "source": [
    "# load env variables\n",
    "env_path = '.env'\n",
    "load_dotenv(env_path)\n",
    "\n",
    "bearer_token = os.getenv('BEARER_TOKEN')\n"
   ]
  },
  {
   "cell_type": "code",
   "execution_count": null,
   "id": "29a647d9",
   "metadata": {},
   "outputs": [],
   "source": [
    "client = tweepy.Client(bearer_token=bearer_token)\n",
    "\n",
    "query = '(depressed OR depression OR sad OR anxiety OR fucked OR suicidal OR feelings OR mentalhealthmatters OR mentalhealthsupport) -is:retweet lang:en'\n",
    "tweets = client.search_recent_tweets(query=query, max_results=100, tweet_fields=['created_at'])\n",
    "\n",
    "data = []\n",
    "for tweet in tweets.data:\n",
    "    data.append({\n",
    "        'text': tweet.text,\n",
    "        'created_at': tweet.created_at\n",
    "    })\n",
    "\n",
    "df = pd.DataFrame(data)"
   ]
  },
  {
   "cell_type": "code",
   "execution_count": null,
   "id": "a0f0e97a",
   "metadata": {},
   "outputs": [
    {
     "data": {
      "text/plain": [
       "(100, 2)"
      ]
     },
     "execution_count": 17,
     "metadata": {},
     "output_type": "execute_result"
    }
   ],
   "source": [
    "df.head()\n",
    "df.shape"
   ]
  },
  {
   "cell_type": "code",
   "execution_count": null,
   "id": "28c881f6",
   "metadata": {},
   "outputs": [],
   "source": [
    "df.to_csv('data/tweets_pulled.csv', index=False)"
   ]
  }
 ],
 "metadata": {
  "kernelspec": {
   "display_name": "venv",
   "language": "python",
   "name": "python3"
  },
  "language_info": {
   "codemirror_mode": {
    "name": "ipython",
    "version": 3
   },
   "file_extension": ".py",
   "mimetype": "text/x-python",
   "name": "python",
   "nbconvert_exporter": "python",
   "pygments_lexer": "ipython3",
   "version": "3.12.10"
  }
 },
 "nbformat": 4,
 "nbformat_minor": 5
}
